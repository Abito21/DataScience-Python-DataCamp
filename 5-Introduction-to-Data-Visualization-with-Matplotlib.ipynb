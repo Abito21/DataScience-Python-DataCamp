{
 "cells": [
  {
   "cell_type": "markdown",
   "metadata": {},
   "source": [
    "# Introduction to Data Visualization with Matplotlib"
   ]
  },
  {
   "cell_type": "code",
   "execution_count": 1,
   "metadata": {},
   "outputs": [
    {
     "name": "stdout",
     "output_type": "stream",
     "text": [
      "Hello, World!\n"
     ]
    }
   ],
   "source": [
    "print('Hello, World!')"
   ]
  },
  {
   "cell_type": "markdown",
   "metadata": {},
   "source": [
    "## Introduction to Matplotlib"
   ]
  },
  {
   "cell_type": "code",
   "execution_count": 3,
   "metadata": {},
   "outputs": [
    {
     "data": {
      "image/png": "[encoded data removed]",
      "text/plain": [
       "<Figure size 432x288 with 1 Axes>"
      ]
     },
     "metadata": {
      "needs_background": "light"
     },
     "output_type": "display_data"
    }
   ],
   "source": [
    "# Introduction the pyplot interface\n",
    "\n",
    "import matplotlib.pyplot as plt\n",
    "fig, ax = plt.subplots()\n",
    "plt.show()"
   ]
  },
  {
   "cell_type": "code",
   "execution_count": null,
   "metadata": {},
   "outputs": [],
   "source": [
    "import pandas as pd\n",
    "dict = {\n",
    "    \"name\": [\"Bella\", \"Charlie\", \"Lucy\", \"Cooper\", \"Max\", \"Stella\", \"Bernie\"],\n",
    "    \"breed\": [\"Labrador\", \"Poodle\", \"Chow Chow\", \"Schnauzer\", \"Labrador\", \"Chihuahua\", \"St. Bernard\"],\n",
    "    \"color\": [\"Brown\", \"Black\", \"Brown\", \"Gray\", \"Black\", \"Tan\", \"White\"],\n",
    "    \"height_cm\": [56, 43, 46, 49, 59, 18, 77],\n",
    "    \"weight_kg\": [25, 23, 22, 17, 29, 2, 74],\n",
    "    \"date_of_birth\": [\"2013-07-01\", \"2016-09-16\", \"2014-08-25\", \"2011-12-11\", \"2017-01-20\", \"2015-04-20\", \"2018-02-27\"]\n",
    "}\n",
    "\n",
    "# Summarizing numerical data\n",
    "dogs = pd.DataFrame(dict)\n",
    "\n",
    "dogs.head()"
   ]
  },
  {
   "cell_type": "code",
   "execution_count": null,
   "metadata": {},
   "outputs": [],
   "source": [
    "# Adding data to axes\n",
    "seattle_weather[\"MONTH\"]\n",
    "seattle_weather[\"MLY-TAVG-NORMAL\"]\n",
    "ax.plot(seattle_weather[\"MONTH\"], seattle_weather[\"MLY-TAVG-NORMAL\"])\n",
    "plt.show()"
   ]
  },
  {
   "cell_type": "code",
   "execution_count": null,
   "metadata": {},
   "outputs": [],
   "source": [
    "import matplotlib.pyplot as plt\n",
    "fig, ax = plt.subplots()\n",
    "ax.plot(seattle_weather[\"MONTH\"], seattle_weather[\"MLY-TAVG-NORMAL\"])\n",
    "ax.plot(austin_weather[\"MONTH\"], austin_weather[\"MLY-TAVG-NORMAL\"])\n",
    "plt.show()"
   ]
  },
  {
   "cell_type": "markdown",
   "metadata": {},
   "source": [
    "## Customizing your Plot"
   ]
  },
  {
   "cell_type": "code",
   "execution_count": null,
   "metadata": {},
   "outputs": [],
   "source": [
    "# Adding marker, linestyle, color\n",
    "from matplotlib import markers\n",
    "import matplotlib.pyplot as plt\n",
    "fig, ax = plt.subplots()\n",
    "ax.plot(seattle_weather[\"MONTH\"],\n",
    "        seattle_weather[\"MLY-TAVG-NORMAL\"],\n",
    "        marker=\"o\", linestyle=\"--\", color=\"r\")\n",
    "#ax.plot(seattle_weather[\"MONTH\"],\n",
    "#        seattle_weather[\"MLY-TAVG-NORMAL\"],\n",
    "#        marker=\"o\", linestyle=\"None\")\n",
    "plt.show()"
   ]
  },
  {
   "cell_type": "code",
   "execution_count": null,
   "metadata": {},
   "outputs": [],
   "source": [
    "# Customizing the axes labels\n",
    "ax.set_xlabel(\"Time (months)\")\n",
    "ax.set_ylabel(\"Average temperature (Farenheit degrees)\")\n",
    "ax.set_title(\"Weather in Seattle\")\n",
    "plt.show()"
   ]
  },
  {
   "cell_type": "markdown",
   "metadata": {},
   "source": [
    "## Small Multiples"
   ]
  },
  {
   "cell_type": "code",
   "execution_count": null,
   "metadata": {},
   "outputs": [],
   "source": [
    "# Adding Data\n",
    "from turtle import color\n",
    "import matplotlib.pyplot as plt\n",
    "fig, ax = plt.subplots()\n",
    "ax.plot(seattle_weather[\"MONTH\"],\n",
    "        seattle_weather[\"MLY-PRCP-NORMAL\"],\n",
    "        linestyle=\"--\", color=\"b\")\n",
    "ax.plot(seattle_weather[\"MONTH\"],\n",
    "        seattle_weather[\"MLY-PRCP-25PCTL\"],\n",
    "        linestyle=\"--\", color='b')\n",
    "ax.plot(seattle_weather[\"MONTH\"],\n",
    "        seattle_weather[\"MLY-PRCP-25PCTL\"],\n",
    "        linestyle=\"--\", color=\"b\")\n",
    "ax.plot(austin_weather[\"MONTH\"],\n",
    "        austin_weather[\"MLY-PRCP-NORMAL\"],\n",
    "        color=\"r\")\n",
    "ax.plot(seattle_weather[\"MONTH\"],\n",
    "        austin_weather[\"MLY-PRCP-25PCTL\"],\n",
    "        linestyle=\"--\", color='r')\n",
    "ax.plot(seattle_weather[\"MONTH\"],\n",
    "        austin_weather[\"MLY-PRCP-25PCTL\"],\n",
    "        linestyle=\"--\", color='r')\n",
    "ax.set_xlabel(\"Time (months)\")\n",
    "ax.set_ylabel(\"Precipitation (inches)\")\n",
    "ax.set_title(\"Weather in Seattle\")\n",
    "plt.show()"
   ]
  },
  {
   "cell_type": "code",
   "execution_count": 2,
   "metadata": {},
   "outputs": [
    {
     "data": {
      "image/png": "[encoded data removed]",
      "text/plain": [
       "<Figure size 432x288 with 6 Axes>"
      ]
     },
     "metadata": {
      "needs_background": "light"
     },
     "output_type": "display_data"
    }
   ],
   "source": [
    "import matplotlib.pyplot as plt\n",
    "fig, ax = plt.subplots(3, 2)\n",
    "plt.show()"
   ]
  },
  {
   "cell_type": "code",
   "execution_count": null,
   "metadata": {},
   "outputs": [],
   "source": [
    "ax.plot(seattle_weather[\"MONTH\"],\n",
    "        seattle_weather[\"MLY-TAVG-NORMAL\"],\n",
    "        color='b')\n",
    "plt.show()"
   ]
  },
  {
   "cell_type": "code",
   "execution_count": null,
   "metadata": {},
   "outputs": [],
   "source": [
    "# Adding Data\n",
    "import matplotlib.pyplot as plt\n",
    "fig, ax = plt.subplots(2, 1, sharey=True)\n",
    "ax[0].plot(seattle_weather[\"MONTH\"],\n",
    "        seattle_weather[\"MLY-PRCP-NORMAL\"],\n",
    "        color=\"b\")\n",
    "ax[0].plot(seattle_weather[\"MONTH\"],\n",
    "        seattle_weather[\"MLY-PRCP-25PCTL\"],\n",
    "        linestyle=\"--\", color='b')\n",
    "ax[0].plot(seattle_weather[\"MONTH\"],\n",
    "        seattle_weather[\"MLY-PRCP-25PCTL\"],\n",
    "        linestyle=\"--\", color=\"b\")\n",
    "ax[1].plot(austin_weather[\"MONTH\"],\n",
    "        austin_weather[\"MLY-PRCP-NORMAL\"],\n",
    "        color=\"r\")\n",
    "ax[1].plot(seattle_weather[\"MONTH\"],\n",
    "        austin_weather[\"MLY-PRCP-25PCTL\"],\n",
    "        linestyle=\"--\", color='r')\n",
    "ax[1].plot(seattle_weather[\"MONTH\"],\n",
    "        austin_weather[\"MLY-PRCP-25PCTL\"],\n",
    "        linestyle=\"--\", color='r')\n",
    "ax.set_xlabel(\"Time (months)\")\n",
    "ax.set_ylabel(\"Precipitation (inches)\")\n",
    "ax.set_title(\"Weather in Seattle\")\n",
    "plt.show()"
   ]
  },
  {
   "cell_type": "markdown",
   "metadata": {},
   "source": [
    "# Plotting time-series data"
   ]
  },
  {
   "cell_type": "markdown",
   "metadata": {},
   "source": [
    "## PLotting Time Series Data"
   ]
  },
  {
   "cell_type": "code",
   "execution_count": null,
   "metadata": {},
   "outputs": [],
   "source": [
    "# Import pandas as pd\n",
    "import pandas as pd\n",
    "\n",
    "# Read the data from file using read_csv\n",
    "climate_change = pd.read_csv('climate_change.csv', parse_dates=['date'], index_col='date')"
   ]
  },
  {
   "cell_type": "code",
   "execution_count": null,
   "metadata": {},
   "outputs": [],
   "source": [
    "# Plotting Time Series Data\n",
    "import matplotlib.pyplot as plt\n",
    "fig, ax = plt.subplots()\n",
    "\n",
    "ax.plot(climate_change.index, climate_change['co2'])\n",
    "ax.set_xlabel('Time')\n",
    "ax.set_ylabel('CO2 (ppm)')\n",
    "plt.show()"
   ]
  },
  {
   "cell_type": "code",
   "execution_count": null,
   "metadata": {},
   "outputs": [],
   "source": [
    "# Zooming in on a decade\n",
    "sixties = climate_change['1960-01-01':'1969-12-31']\n",
    "\n",
    "fig, ax = plt.subplots()\n",
    "ax.plot(sixties.index, sixties['co2'])\n",
    "ax.set_xlabel('Time')\n",
    "ax.set_ylabel('CO2 (ppm')\n",
    "plt.show()"
   ]
  },
  {
   "cell_type": "code",
   "execution_count": null,
   "metadata": {},
   "outputs": [],
   "source": [
    "# Zooming in on one year\n",
    "sixty_nine = climate_change['1969-01-01':'1969-12-31']\n",
    "fig, ax = plt.subplots()\n",
    "ax.plot(sixty_nine.index, sixty_nine['co2'])\n",
    "ax.set_xlabel('Time')\n",
    "ax.set_ylabel('CO2 (ppm')\n",
    "plt.show()"
   ]
  },
  {
   "cell_type": "markdown",
   "metadata": {},
   "source": [
    "## Plotting time-series with different variables"
   ]
  },
  {
   "cell_type": "code",
   "execution_count": null,
   "metadata": {},
   "outputs": [],
   "source": [
    "# Plotting Two Time-Series together\n",
    "import matplotlib.pyplot as plt\n",
    "fig, ax = plt.subplots()\n",
    "\n",
    "ax.plot(climate_change.index, climate_change['co2'])\n",
    "ax.plot(climate_change.index, climate_change['relative_temp'])\n",
    "ax.set_xlabel('Time')\n",
    "ax.set_ylabel('CO2 (ppm) / Relative temperature')\n",
    "plt.show()"
   ]
  },
  {
   "cell_type": "code",
   "execution_count": null,
   "metadata": {},
   "outputs": [],
   "source": [
    "# Using twin axes\n",
    "import matplotlib.pyplot as plt\n",
    "fig, ax = plt.subplots()\n",
    "\n",
    "ax.plot(climate_change.index, climate_change['co2'])\n",
    "ax.set_xlabel('Time')\n",
    "ax.set_ylabel('CO2 (ppm)')\n",
    "\n",
    "ax2 = ax.twinx()\n",
    "ax2.plot(climate_change.index, climate_change['relative_temp'])\n",
    "ax2.set_ylabel('Relative temperature (Celsius)')\n",
    "plt.show()"
   ]
  },
  {
   "cell_type": "code",
   "execution_count": null,
   "metadata": {},
   "outputs": [],
   "source": [
    "# Separating variables by color\n",
    "import matplotlib.pyplot as plt\n",
    "fig, ax = plt.subplots()\n",
    "\n",
    "ax.plot(climate_change.index, climate_change['co2'], color='blue')\n",
    "ax.set_xlabel('Time')\n",
    "ax.set_ylabel('CO2 (ppm)', color='blue')\n",
    "\n",
    "ax2 = ax.twinx()\n",
    "ax2.plot(climate_change.index, climate_change['relative_temp'], color='red')\n",
    "ax2.set_ylabel('Relative temperature (Celsius)', color='red')\n",
    "plt.show()"
   ]
  },
  {
   "cell_type": "code",
   "execution_count": null,
   "metadata": {},
   "outputs": [],
   "source": [
    "# Coloring the ticks\n",
    "import matplotlib.pyplot as plt\n",
    "fig, ax = plt.subplots()\n",
    "\n",
    "ax.plot(climate_change.index, climate_change['co2'], color='blue')\n",
    "ax.set_xlabel('Time')\n",
    "ax.set_ylabel('CO2 (ppm)', color='blue')\n",
    "ax.tick_params('y', colors='blue')\n",
    "\n",
    "ax2 = ax.twinx()\n",
    "ax2.plot(climate_change.index, climate_change['relative_temp'], color='red')\n",
    "ax2.set_ylabel('Relative temperature (Celsius)', color='red')\n",
    "ax.tick_params('y', colors='red')\n",
    "\n",
    "plt.show()"
   ]
  },
  {
   "cell_type": "code",
   "execution_count": null,
   "metadata": {},
   "outputs": [],
   "source": [
    "# A function that plots time-series\n",
    "def plot_timeseries(axes, x, y, color, xlabel, ylabel):\n",
    "    axes.plot(x, y, color=color)\n",
    "    axes.set_xlabel(xlabel)\n",
    "    axes.set_ylabel(ylabel, color=color)\n",
    "    axes.ticks_params('y', colors=color)"
   ]
  },
  {
   "cell_type": "code",
   "execution_count": null,
   "metadata": {},
   "outputs": [],
   "source": []
  }
 ],
 "metadata": {
  "kernelspec": {
   "display_name": "Python 3.9.12 64-bit",
   "language": "python",
   "name": "python3"
  },
  "language_info": {
   "codemirror_mode": {
    "name": "ipython",
    "version": 3
   },
   "file_extension": ".py",
   "mimetype": "text/x-python",
   "name": "python",
   "nbconvert_exporter": "python",
   "pygments_lexer": "ipython3",
   "version": "3.9.12"
  },
  "orig_nbformat": 4,
  "vscode": {
   "interpreter": {
    "hash": "20a9e06a1eee47c4abbed4ec8225ad91d78d9800d202b71b6b0a6e47016c6abd"
   }
  }
 },
 "nbformat": 4,
 "nbformat_minor": 2
}
