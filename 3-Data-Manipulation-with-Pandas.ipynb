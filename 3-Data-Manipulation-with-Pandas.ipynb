{
 "cells": [
  {
   "cell_type": "markdown",
   "metadata": {},
   "source": [
    "# Chapter 1"
   ]
  },
  {
   "cell_type": "markdown",
   "metadata": {},
   "source": [
    "## Introduction DataFrames"
   ]
  },
  {
   "cell_type": "code",
   "execution_count": 1,
   "metadata": {},
   "outputs": [
    {
     "name": "stdout",
     "output_type": "stream",
     "text": [
      "hellow, world!\n"
     ]
    }
   ],
   "source": [
    "print(\"hellow, world!\")"
   ]
  },
  {
   "cell_type": "code",
   "execution_count": 5,
   "metadata": {},
   "outputs": [
    {
     "name": "stdout",
     "output_type": "stream",
     "text": [
      "      Name       Breed  Color  Height (cm)  Weight (kg) Date of Birth\n",
      "0    Bella    Labrador  Brown           56           25    2013-07-01\n",
      "1  Charlie      Poodle  Black           43           23    2016-09-16\n",
      "2     Lucy   Chow Chow  Brown           46           22    2014-08-25\n",
      "3   Cooper   Schnauzer   Gray           49           17    2011-12-11\n",
      "4      Max    Labrador  Black           59           29    2017-01-20\n",
      "<class 'pandas.core.frame.DataFrame'>\n",
      "RangeIndex: 7 entries, 0 to 6\n",
      "Data columns (total 6 columns):\n",
      " #   Column         Non-Null Count  Dtype \n",
      "---  ------         --------------  ----- \n",
      " 0   Name           7 non-null      object\n",
      " 1   Breed          7 non-null      object\n",
      " 2   Color          7 non-null      object\n",
      " 3   Height (cm)    7 non-null      int64 \n",
      " 4   Weight (kg)    7 non-null      int64 \n",
      " 5   Date of Birth  7 non-null      object\n",
      "dtypes: int64(2), object(4)\n",
      "memory usage: 464.0+ bytes\n",
      "None\n",
      "(7, 6)\n",
      "       Height (cm)  Weight (kg)\n",
      "count     7.000000     7.000000\n",
      "mean     49.714286    27.428571\n",
      "std      17.960274    22.292429\n",
      "min      18.000000     2.000000\n",
      "25%      44.500000    19.500000\n",
      "50%      49.000000    23.000000\n",
      "75%      57.500000    27.000000\n",
      "max      77.000000    74.000000\n",
      "[['Bella' 'Labrador' 'Brown' 56 25 '2013-07-01']\n",
      " ['Charlie' 'Poodle' 'Black' 43 23 '2016-09-16']\n",
      " ['Lucy' 'Chow Chow' 'Brown' 46 22 '2014-08-25']\n",
      " ['Cooper' ' Schnauzer' 'Gray' 49 17 '2011-12-11']\n",
      " ['Max' 'Labrador' 'Black' 59 29 '2017-01-20']\n",
      " ['Stella' 'Chihuahua' 'Tan' 18 2 '2015-04-20']\n",
      " ['Bernie' 'St. Bernard' 'Whiite' 77 74 '2018-02-27']]\n",
      "Index(['Name', 'Breed', 'Color', 'Height (cm)', 'Weight (kg)',\n",
      "       'Date of Birth'],\n",
      "      dtype='object')\n",
      "RangeIndex(start=0, stop=7, step=1)\n"
     ]
    }
   ],
   "source": [
    "import pandas as pd\n",
    "\n",
    "dict = {\n",
    "    \"Name\": [\"Bella\", \"Charlie\", \"Lucy\", \"Cooper\", \"Max\", \"Stella\", \"Bernie\"],\n",
    "    \"Breed\": [\"Labrador\", \"Poodle\", \"Chow Chow\", \" Schnauzer\", \"Labrador\", \"Chihuahua\", \"St. Bernard\"],\n",
    "    \"Color\": [\"Brown\", \"Black\", \"Brown\", \"Gray\", \"Black\", \"Tan\", \"Whiite\"],\n",
    "    \"Height (cm)\": [56, 43, 46, 49, 59, 18, 77],\n",
    "    \"Weight (kg)\": [25, 23, 22, 17, 29, 2, 74],\n",
    "    \"Date of Birth\": [\"2013-07-01\", \"2016-09-16\", \"2014-08-25\", \"2011-12-11\", \"2017-01-20\", \"2015-04-20\", \"2018-02-27\"]\n",
    "}\n",
    "\n",
    "dogs = pd.DataFrame(dict)\n",
    "\n",
    "# Exploring a DataFrame: .head()\n",
    "print(dogs.head())\n",
    "\n",
    "# Exploring a DataFramne: .info()\n",
    "print(dogs.info())\n",
    "\n",
    "# Exploring a DataFramne: .shape()\n",
    "print(dogs.shape)\n",
    "\n",
    "# Exploring a DataFramne: .describe()\n",
    "print(dogs.describe())\n",
    "\n",
    "# Components of a DataFrame: .values\n",
    "print(dogs.values)\n",
    "\n",
    "# Components of DataFrame: .columns and .index\n",
    "print(dogs.columns)\n",
    "print(dogs.index)"
   ]
  },
  {
   "cell_type": "code",
   "execution_count": null,
   "metadata": {},
   "outputs": [],
   "source": [
    "#homelessness = []\n",
    "\n",
    "# Print the head of the homelessness data\n",
    "#print(homelessness.head())\n",
    "\n",
    "# Print information about homelessness\n",
    "#print(homelessness.info())\n",
    "\n",
    "# Print the shape of homelessness\n",
    "#print(homelessness.shape)\n",
    "\n",
    "# Print a description of homelessness\n",
    "#print(homelessness.describe())"
   ]
  },
  {
   "cell_type": "code",
   "execution_count": null,
   "metadata": {},
   "outputs": [],
   "source": [
    "# Import pandas using the alias pd\n",
    "#import pandas as pd\n",
    "\n",
    "# Print the values of homelessness\n",
    "#print(homelessness.values)\n",
    "\n",
    "# Print the column index of homelessness\n",
    "#print(homelessness.columns)\n",
    "\n",
    "# Print the row index of homelessness\n",
    "#print(homelessness.index)"
   ]
  },
  {
   "cell_type": "markdown",
   "metadata": {},
   "source": [
    "## Sorting"
   ]
  },
  {
   "cell_type": "code",
   "execution_count": 8,
   "metadata": {},
   "outputs": [
    {
     "data": {
      "text/html": [
       "<div>\n",
       "<style scoped>\n",
       "    .dataframe tbody tr th:only-of-type {\n",
       "        vertical-align: middle;\n",
       "    }\n",
       "\n",
       "    .dataframe tbody tr th {\n",
       "        vertical-align: top;\n",
       "    }\n",
       "\n",
       "    .dataframe thead th {\n",
       "        text-align: right;\n",
       "    }\n",
       "</style>\n",
       "<table border=\"1\" class=\"dataframe\">\n",
       "  <thead>\n",
       "    <tr style=\"text-align: right;\">\n",
       "      <th></th>\n",
       "      <th>name</th>\n",
       "      <th>breed</th>\n",
       "      <th>color</th>\n",
       "      <th>height_cm</th>\n",
       "      <th>weight_kg</th>\n",
       "      <th>date_of_birth</th>\n",
       "    </tr>\n",
       "  </thead>\n",
       "  <tbody>\n",
       "    <tr>\n",
       "      <th>5</th>\n",
       "      <td>Stella</td>\n",
       "      <td>Chihuahua</td>\n",
       "      <td>Tan</td>\n",
       "      <td>18</td>\n",
       "      <td>2</td>\n",
       "      <td>2015-04-20</td>\n",
       "    </tr>\n",
       "    <tr>\n",
       "      <th>3</th>\n",
       "      <td>Cooper</td>\n",
       "      <td>Schnauzer</td>\n",
       "      <td>Gray</td>\n",
       "      <td>49</td>\n",
       "      <td>17</td>\n",
       "      <td>2011-12-11</td>\n",
       "    </tr>\n",
       "    <tr>\n",
       "      <th>2</th>\n",
       "      <td>Lucy</td>\n",
       "      <td>Chow Chow</td>\n",
       "      <td>Brown</td>\n",
       "      <td>46</td>\n",
       "      <td>22</td>\n",
       "      <td>2014-08-25</td>\n",
       "    </tr>\n",
       "    <tr>\n",
       "      <th>1</th>\n",
       "      <td>Charlie</td>\n",
       "      <td>Poodle</td>\n",
       "      <td>Black</td>\n",
       "      <td>43</td>\n",
       "      <td>23</td>\n",
       "      <td>2016-09-16</td>\n",
       "    </tr>\n",
       "    <tr>\n",
       "      <th>0</th>\n",
       "      <td>Bella</td>\n",
       "      <td>Labrador</td>\n",
       "      <td>Brown</td>\n",
       "      <td>56</td>\n",
       "      <td>25</td>\n",
       "      <td>2013-07-01</td>\n",
       "    </tr>\n",
       "    <tr>\n",
       "      <th>4</th>\n",
       "      <td>Max</td>\n",
       "      <td>Labrador</td>\n",
       "      <td>Black</td>\n",
       "      <td>59</td>\n",
       "      <td>29</td>\n",
       "      <td>2017-01-20</td>\n",
       "    </tr>\n",
       "    <tr>\n",
       "      <th>6</th>\n",
       "      <td>Bernie</td>\n",
       "      <td>St. Bernard</td>\n",
       "      <td>Whiite</td>\n",
       "      <td>77</td>\n",
       "      <td>74</td>\n",
       "      <td>2018-02-27</td>\n",
       "    </tr>\n",
       "  </tbody>\n",
       "</table>\n",
       "</div>"
      ],
      "text/plain": [
       "      name        breed   color  height_cm  weight_kg date_of_birth\n",
       "5   Stella    Chihuahua     Tan         18          2    2015-04-20\n",
       "3   Cooper    Schnauzer    Gray         49         17    2011-12-11\n",
       "2     Lucy    Chow Chow   Brown         46         22    2014-08-25\n",
       "1  Charlie       Poodle   Black         43         23    2016-09-16\n",
       "0    Bella     Labrador   Brown         56         25    2013-07-01\n",
       "4      Max     Labrador   Black         59         29    2017-01-20\n",
       "6   Bernie  St. Bernard  Whiite         77         74    2018-02-27"
      ]
     },
     "execution_count": 8,
     "metadata": {},
     "output_type": "execute_result"
    }
   ],
   "source": [
    "dict = {\n",
    "    \"name\": [\"Bella\", \"Charlie\", \"Lucy\", \"Cooper\", \"Max\", \"Stella\", \"Bernie\"],\n",
    "    \"breed\": [\"Labrador\", \"Poodle\", \"Chow Chow\", \" Schnauzer\", \"Labrador\", \"Chihuahua\", \"St. Bernard\"],\n",
    "    \"color\": [\"Brown\", \"Black\", \"Brown\", \"Gray\", \"Black\", \"Tan\", \"Whiite\"],\n",
    "    \"height_cm\": [56, 43, 46, 49, 59, 18, 77],\n",
    "    \"weight_kg\": [25, 23, 22, 17, 29, 2, 74],\n",
    "    \"date_of_birth\": [\"2013-07-01\", \"2016-09-16\", \"2014-08-25\", \"2011-12-11\", \"2017-01-20\", \"2015-04-20\", \"2018-02-27\"]\n",
    "}\n",
    "\n",
    "dogs = pd.DataFrame(dict)\n",
    "\n",
    "# Sorting\n",
    "dogs.sort_values(\"weight_kg\")\n",
    "\n",
    "# Sorting in descending order\n",
    "dogs.sort_values(\"weight_kg\", ascending=False)\n",
    "\n",
    "# Sorting by multiple variables\n",
    "dogs.sort_values([\"weight_kg\", \"height_cm\"])\n",
    "\n",
    "# Sorting by multiple variables\n",
    "dogs.sort_values([\"weight_kg\", \"height_cm\"], ascending=[True, False])"
   ]
  },
  {
   "cell_type": "code",
   "execution_count": 9,
   "metadata": {},
   "outputs": [
    {
     "data": {
      "text/plain": [
       "0      Bella\n",
       "1    Charlie\n",
       "2       Lucy\n",
       "3     Cooper\n",
       "4        Max\n",
       "5     Stella\n",
       "6     Bernie\n",
       "Name: name, dtype: object"
      ]
     },
     "execution_count": 9,
     "metadata": {},
     "output_type": "execute_result"
    }
   ],
   "source": [
    "# Subsetting columns\n",
    "dogs[\"name\"]"
   ]
  },
  {
   "cell_type": "code",
   "execution_count": 11,
   "metadata": {},
   "outputs": [
    {
     "data": {
      "text/html": [
       "<div>\n",
       "<style scoped>\n",
       "    .dataframe tbody tr th:only-of-type {\n",
       "        vertical-align: middle;\n",
       "    }\n",
       "\n",
       "    .dataframe tbody tr th {\n",
       "        vertical-align: top;\n",
       "    }\n",
       "\n",
       "    .dataframe thead th {\n",
       "        text-align: right;\n",
       "    }\n",
       "</style>\n",
       "<table border=\"1\" class=\"dataframe\">\n",
       "  <thead>\n",
       "    <tr style=\"text-align: right;\">\n",
       "      <th></th>\n",
       "      <th>breed</th>\n",
       "      <th>height_cm</th>\n",
       "    </tr>\n",
       "  </thead>\n",
       "  <tbody>\n",
       "    <tr>\n",
       "      <th>0</th>\n",
       "      <td>Labrador</td>\n",
       "      <td>56</td>\n",
       "    </tr>\n",
       "    <tr>\n",
       "      <th>1</th>\n",
       "      <td>Poodle</td>\n",
       "      <td>43</td>\n",
       "    </tr>\n",
       "    <tr>\n",
       "      <th>2</th>\n",
       "      <td>Chow Chow</td>\n",
       "      <td>46</td>\n",
       "    </tr>\n",
       "    <tr>\n",
       "      <th>3</th>\n",
       "      <td>Schnauzer</td>\n",
       "      <td>49</td>\n",
       "    </tr>\n",
       "    <tr>\n",
       "      <th>4</th>\n",
       "      <td>Labrador</td>\n",
       "      <td>59</td>\n",
       "    </tr>\n",
       "    <tr>\n",
       "      <th>5</th>\n",
       "      <td>Chihuahua</td>\n",
       "      <td>18</td>\n",
       "    </tr>\n",
       "    <tr>\n",
       "      <th>6</th>\n",
       "      <td>St. Bernard</td>\n",
       "      <td>77</td>\n",
       "    </tr>\n",
       "  </tbody>\n",
       "</table>\n",
       "</div>"
      ],
      "text/plain": [
       "         breed  height_cm\n",
       "0     Labrador         56\n",
       "1       Poodle         43\n",
       "2    Chow Chow         46\n",
       "3    Schnauzer         49\n",
       "4     Labrador         59\n",
       "5    Chihuahua         18\n",
       "6  St. Bernard         77"
      ]
     },
     "execution_count": 11,
     "metadata": {},
     "output_type": "execute_result"
    }
   ],
   "source": [
    "# Subsetting multiple columns\n",
    "dogs[[\"breed\", \"height_cm\"]]\n",
    "\n",
    "# or we can use\n",
    "cols_to_subset = [\"breed\", \"height_cm\"]\n",
    "dogs[cols_to_subset]"
   ]
  },
  {
   "cell_type": "code",
   "execution_count": 15,
   "metadata": {},
   "outputs": [
    {
     "data": {
      "text/html": [
       "<div>\n",
       "<style scoped>\n",
       "    .dataframe tbody tr th:only-of-type {\n",
       "        vertical-align: middle;\n",
       "    }\n",
       "\n",
       "    .dataframe tbody tr th {\n",
       "        vertical-align: top;\n",
       "    }\n",
       "\n",
       "    .dataframe thead th {\n",
       "        text-align: right;\n",
       "    }\n",
       "</style>\n",
       "<table border=\"1\" class=\"dataframe\">\n",
       "  <thead>\n",
       "    <tr style=\"text-align: right;\">\n",
       "      <th></th>\n",
       "      <th>name</th>\n",
       "      <th>breed</th>\n",
       "      <th>color</th>\n",
       "      <th>height_cm</th>\n",
       "      <th>weight_kg</th>\n",
       "      <th>date_of_birth</th>\n",
       "    </tr>\n",
       "  </thead>\n",
       "  <tbody>\n",
       "    <tr>\n",
       "      <th>0</th>\n",
       "      <td>Bella</td>\n",
       "      <td>Labrador</td>\n",
       "      <td>Brown</td>\n",
       "      <td>56</td>\n",
       "      <td>25</td>\n",
       "      <td>2013-07-01</td>\n",
       "    </tr>\n",
       "    <tr>\n",
       "      <th>2</th>\n",
       "      <td>Lucy</td>\n",
       "      <td>Chow Chow</td>\n",
       "      <td>Brown</td>\n",
       "      <td>46</td>\n",
       "      <td>22</td>\n",
       "      <td>2014-08-25</td>\n",
       "    </tr>\n",
       "    <tr>\n",
       "      <th>3</th>\n",
       "      <td>Cooper</td>\n",
       "      <td>Schnauzer</td>\n",
       "      <td>Gray</td>\n",
       "      <td>49</td>\n",
       "      <td>17</td>\n",
       "      <td>2011-12-11</td>\n",
       "    </tr>\n",
       "  </tbody>\n",
       "</table>\n",
       "</div>"
      ],
      "text/plain": [
       "     name       breed  color  height_cm  weight_kg date_of_birth\n",
       "0   Bella    Labrador  Brown         56         25    2013-07-01\n",
       "2    Lucy   Chow Chow  Brown         46         22    2014-08-25\n",
       "3  Cooper   Schnauzer   Gray         49         17    2011-12-11"
      ]
     },
     "execution_count": 15,
     "metadata": {},
     "output_type": "execute_result"
    }
   ],
   "source": [
    "# Subsetting rows\n",
    "dogs[dogs[\"height_cm\"] > 50]\n",
    "\n",
    "# based on text data\n",
    "dogs[dogs[\"breed\"] == \"Labrador\"]\n",
    "\n",
    "# based on dates\n",
    "dogs[dogs[\"date_of_birth\"] < \"2015-01-01\"]"
   ]
  },
  {
   "cell_type": "code",
   "execution_count": 17,
   "metadata": {},
   "outputs": [
    {
     "data": {
      "text/html": [
       "<div>\n",
       "<style scoped>\n",
       "    .dataframe tbody tr th:only-of-type {\n",
       "        vertical-align: middle;\n",
       "    }\n",
       "\n",
       "    .dataframe tbody tr th {\n",
       "        vertical-align: top;\n",
       "    }\n",
       "\n",
       "    .dataframe thead th {\n",
       "        text-align: right;\n",
       "    }\n",
       "</style>\n",
       "<table border=\"1\" class=\"dataframe\">\n",
       "  <thead>\n",
       "    <tr style=\"text-align: right;\">\n",
       "      <th></th>\n",
       "      <th>name</th>\n",
       "      <th>breed</th>\n",
       "      <th>color</th>\n",
       "      <th>height_cm</th>\n",
       "      <th>weight_kg</th>\n",
       "      <th>date_of_birth</th>\n",
       "    </tr>\n",
       "  </thead>\n",
       "  <tbody>\n",
       "    <tr>\n",
       "      <th>0</th>\n",
       "      <td>Bella</td>\n",
       "      <td>Labrador</td>\n",
       "      <td>Brown</td>\n",
       "      <td>56</td>\n",
       "      <td>25</td>\n",
       "      <td>2013-07-01</td>\n",
       "    </tr>\n",
       "  </tbody>\n",
       "</table>\n",
       "</div>"
      ],
      "text/plain": [
       "    name     breed  color  height_cm  weight_kg date_of_birth\n",
       "0  Bella  Labrador  Brown         56         25    2013-07-01"
      ]
     },
     "execution_count": 17,
     "metadata": {},
     "output_type": "execute_result"
    }
   ],
   "source": [
    "# Subsetting based on multiple conditions\n",
    "is_label = dogs[\"breed\"] == \"Labrador\"\n",
    "is_brown = dogs[\"color\"] == \"Brown\"\n",
    "dogs[is_label & is_brown]\n",
    "\n",
    "# or we can use\n",
    "dogs[ (dogs[\"breed\"] == \"Labrador\") & (dogs[\"color\"] == \"Brown\") ]"
   ]
  },
  {
   "cell_type": "code",
   "execution_count": 18,
   "metadata": {},
   "outputs": [
    {
     "data": {
      "text/html": [
       "<div>\n",
       "<style scoped>\n",
       "    .dataframe tbody tr th:only-of-type {\n",
       "        vertical-align: middle;\n",
       "    }\n",
       "\n",
       "    .dataframe tbody tr th {\n",
       "        vertical-align: top;\n",
       "    }\n",
       "\n",
       "    .dataframe thead th {\n",
       "        text-align: right;\n",
       "    }\n",
       "</style>\n",
       "<table border=\"1\" class=\"dataframe\">\n",
       "  <thead>\n",
       "    <tr style=\"text-align: right;\">\n",
       "      <th></th>\n",
       "      <th>name</th>\n",
       "      <th>breed</th>\n",
       "      <th>color</th>\n",
       "      <th>height_cm</th>\n",
       "      <th>weight_kg</th>\n",
       "      <th>date_of_birth</th>\n",
       "    </tr>\n",
       "  </thead>\n",
       "  <tbody>\n",
       "    <tr>\n",
       "      <th>0</th>\n",
       "      <td>Bella</td>\n",
       "      <td>Labrador</td>\n",
       "      <td>Brown</td>\n",
       "      <td>56</td>\n",
       "      <td>25</td>\n",
       "      <td>2013-07-01</td>\n",
       "    </tr>\n",
       "    <tr>\n",
       "      <th>1</th>\n",
       "      <td>Charlie</td>\n",
       "      <td>Poodle</td>\n",
       "      <td>Black</td>\n",
       "      <td>43</td>\n",
       "      <td>23</td>\n",
       "      <td>2016-09-16</td>\n",
       "    </tr>\n",
       "    <tr>\n",
       "      <th>2</th>\n",
       "      <td>Lucy</td>\n",
       "      <td>Chow Chow</td>\n",
       "      <td>Brown</td>\n",
       "      <td>46</td>\n",
       "      <td>22</td>\n",
       "      <td>2014-08-25</td>\n",
       "    </tr>\n",
       "    <tr>\n",
       "      <th>4</th>\n",
       "      <td>Max</td>\n",
       "      <td>Labrador</td>\n",
       "      <td>Black</td>\n",
       "      <td>59</td>\n",
       "      <td>29</td>\n",
       "      <td>2017-01-20</td>\n",
       "    </tr>\n",
       "  </tbody>\n",
       "</table>\n",
       "</div>"
      ],
      "text/plain": [
       "      name      breed  color  height_cm  weight_kg date_of_birth\n",
       "0    Bella   Labrador  Brown         56         25    2013-07-01\n",
       "1  Charlie     Poodle  Black         43         23    2016-09-16\n",
       "2     Lucy  Chow Chow  Brown         46         22    2014-08-25\n",
       "4      Max   Labrador  Black         59         29    2017-01-20"
      ]
     },
     "execution_count": 18,
     "metadata": {},
     "output_type": "execute_result"
    }
   ],
   "source": [
    "# Subsetting using .isin()\n",
    "is_black_or_brown = dogs[\"color\"].isin([\"Black\", \"Brown\"])\n",
    "dogs[is_black_or_brown]"
   ]
  },
  {
   "cell_type": "code",
   "execution_count": 19,
   "metadata": {},
   "outputs": [],
   "source": [
    "# Subset for rows in South Atlantic or Mid-Atlantic regions\n",
    "#south_mid_atlantic = homelessness[homelessness[\"region\"].isin([\"South Atlantic\", \"Mid-Atlantic\"])]\n",
    "\n",
    "# See the result\n",
    "#print(south_mid_atlantic)"
   ]
  },
  {
   "cell_type": "code",
   "execution_count": 20,
   "metadata": {},
   "outputs": [],
   "source": [
    "# The Mojave Desert states\n",
    "#canu = [\"California\", \"Arizona\", \"Nevada\", \"Utah\"]\n",
    "\n",
    "# Filter for rows in the Mojave Desert states\n",
    "#mojave_homelessness = homelessness[homelessness[\"state\"].isin(canu)]\n",
    "\n",
    "# See the result\n",
    "#print(mojave_homelessness)"
   ]
  },
  {
   "cell_type": "markdown",
   "metadata": {},
   "source": [
    "## New Columns"
   ]
  },
  {
   "cell_type": "code",
   "execution_count": 22,
   "metadata": {},
   "outputs": [
    {
     "name": "stdout",
     "output_type": "stream",
     "text": [
      "      name        breed   color  height_cm  weight_kg date_of_birth  height_m\n",
      "0    Bella     Labrador   Brown         56         25    2013-07-01      0.56\n",
      "1  Charlie       Poodle   Black         43         23    2016-09-16      0.43\n",
      "2     Lucy    Chow Chow   Brown         46         22    2014-08-25      0.46\n",
      "3   Cooper    Schnauzer    Gray         49         17    2011-12-11      0.49\n",
      "4      Max     Labrador   Black         59         29    2017-01-20      0.59\n",
      "5   Stella    Chihuahua     Tan         18          2    2015-04-20      0.18\n",
      "6   Bernie  St. Bernard  Whiite         77         74    2018-02-27      0.77\n"
     ]
    }
   ],
   "source": [
    "dict = {\n",
    "    \"name\": [\"Bella\", \"Charlie\", \"Lucy\", \"Cooper\", \"Max\", \"Stella\", \"Bernie\"],\n",
    "    \"breed\": [\"Labrador\", \"Poodle\", \"Chow Chow\", \" Schnauzer\", \"Labrador\", \"Chihuahua\", \"St. Bernard\"],\n",
    "    \"color\": [\"Brown\", \"Black\", \"Brown\", \"Gray\", \"Black\", \"Tan\", \"Whiite\"],\n",
    "    \"height_cm\": [56, 43, 46, 49, 59, 18, 77],\n",
    "    \"weight_kg\": [25, 23, 22, 17, 29, 2, 74],\n",
    "    \"date_of_birth\": [\"2013-07-01\", \"2016-09-16\", \"2014-08-25\", \"2011-12-11\", \"2017-01-20\", \"2015-04-20\", \"2018-02-27\"]\n",
    "}\n",
    "\n",
    "dogs = pd.DataFrame(dict)\n",
    "\n",
    "# Adding a new column\n",
    "dogs[\"height_m\"] = dogs[\"height_cm\"] / 100\n",
    "print(dogs)"
   ]
  },
  {
   "cell_type": "code",
   "execution_count": 23,
   "metadata": {},
   "outputs": [
    {
     "name": "stdout",
     "output_type": "stream",
     "text": [
      "      name       breed  color  height_cm  weight_kg date_of_birth  height_m  \\\n",
      "0    Bella    Labrador  Brown         56         25    2013-07-01      0.56   \n",
      "1  Charlie      Poodle  Black         43         23    2016-09-16      0.43   \n",
      "2     Lucy   Chow Chow  Brown         46         22    2014-08-25      0.46   \n",
      "3   Cooper   Schnauzer   Gray         49         17    2011-12-11      0.49   \n",
      "4      Max    Labrador  Black         59         29    2017-01-20      0.59   \n",
      "\n",
      "          bmi  \n",
      "0   79.719388  \n",
      "1  124.391563  \n",
      "2  103.969754  \n",
      "3   70.803832  \n",
      "4   83.309394  \n"
     ]
    }
   ],
   "source": [
    "# Doggy mass index\n",
    "dogs[\"bmi\"] = dogs[\"weight_kg\"] / dogs[\"height_m\"] ** 2\n",
    "print(dogs.head())"
   ]
  },
  {
   "cell_type": "code",
   "execution_count": 24,
   "metadata": {},
   "outputs": [
    {
     "data": {
      "text/html": [
       "<div>\n",
       "<style scoped>\n",
       "    .dataframe tbody tr th:only-of-type {\n",
       "        vertical-align: middle;\n",
       "    }\n",
       "\n",
       "    .dataframe tbody tr th {\n",
       "        vertical-align: top;\n",
       "    }\n",
       "\n",
       "    .dataframe thead th {\n",
       "        text-align: right;\n",
       "    }\n",
       "</style>\n",
       "<table border=\"1\" class=\"dataframe\">\n",
       "  <thead>\n",
       "    <tr style=\"text-align: right;\">\n",
       "      <th></th>\n",
       "      <th>name</th>\n",
       "      <th>height_cm</th>\n",
       "      <th>bmi</th>\n",
       "    </tr>\n",
       "  </thead>\n",
       "  <tbody>\n",
       "    <tr>\n",
       "      <th>4</th>\n",
       "      <td>Max</td>\n",
       "      <td>59</td>\n",
       "      <td>83.309394</td>\n",
       "    </tr>\n",
       "    <tr>\n",
       "      <th>0</th>\n",
       "      <td>Bella</td>\n",
       "      <td>56</td>\n",
       "      <td>79.719388</td>\n",
       "    </tr>\n",
       "    <tr>\n",
       "      <th>3</th>\n",
       "      <td>Cooper</td>\n",
       "      <td>49</td>\n",
       "      <td>70.803832</td>\n",
       "    </tr>\n",
       "    <tr>\n",
       "      <th>5</th>\n",
       "      <td>Stella</td>\n",
       "      <td>18</td>\n",
       "      <td>61.728395</td>\n",
       "    </tr>\n",
       "  </tbody>\n",
       "</table>\n",
       "</div>"
      ],
      "text/plain": [
       "     name  height_cm        bmi\n",
       "4     Max         59  83.309394\n",
       "0   Bella         56  79.719388\n",
       "3  Cooper         49  70.803832\n",
       "5  Stella         18  61.728395"
      ]
     },
     "execution_count": 24,
     "metadata": {},
     "output_type": "execute_result"
    }
   ],
   "source": [
    "# Multiple manipulations\n",
    "bmi_lt_100 = dogs[dogs[\"bmi\"] < 100]\n",
    "bmi_lt_100_height = bmi_lt_100.sort_values(\"height_cm\", ascending=False)\n",
    "bmi_lt_100_height[[\"name\", \"height_cm\", \"bmi\"]]"
   ]
  },
  {
   "cell_type": "code",
   "execution_count": 25,
   "metadata": {},
   "outputs": [],
   "source": [
    "# Add total col as sum of individuals and family_members\n",
    "#homelessness[\"total\"] = homelessness[\"individuals\"] + homelessness[\"family_members\"]\n",
    "\n",
    "# Add p_individuals col as proportion of total that are individuals\n",
    "#homelessness[\"p_individuals\"] = homelessness[\"individuals\"] / homelessness[\"total\"]\n",
    "\n",
    "# See the result\n",
    "#print(homelessness)"
   ]
  },
  {
   "cell_type": "code",
   "execution_count": null,
   "metadata": {},
   "outputs": [],
   "source": [
    "# Create indiv_per_10k col as homeless individuals per 10k state pop\n",
    "#homelessness[\"indiv_per_10k\"] = 10000 * homelessness[\"individuals\"] / homelessness[\"state_pop\"]\n",
    "\n",
    "# Subset rows for indiv_per_10k greater than 20\n",
    "#high_homelessness = homelessness[homelessness[\"indiv_per_10k\"] > 20]\n",
    "\n",
    "# Sort high_homelessness by descending indiv_per_10k\n",
    "#high_homelessness_srt = high_homelessness.sort_values(\"indiv_per_10k\", ascending =  False)\n",
    "\n",
    "# From high_homelessness_srt, select the state and indiv_per_10k cols\n",
    "#result = high_homelessness_srt[[\"state\", \"indiv_per_10k\"]]\n",
    "\n",
    "# See the result\n",
    "#print(result)"
   ]
  },
  {
   "cell_type": "markdown",
   "metadata": {},
   "source": [
    "# Chapter 2"
   ]
  },
  {
   "cell_type": "markdown",
   "metadata": {},
   "source": [
    "## Summary Statistics"
   ]
  },
  {
   "cell_type": "code",
   "execution_count": 32,
   "metadata": {},
   "outputs": [
    {
     "name": "stdout",
     "output_type": "stream",
     "text": [
      "=== Summary Dogs \"height_cm\" Column ===\n",
      "mean : 49.714285714285715\n",
      "median : 49.0\n",
      "mode : 0    18\n",
      "1    43\n",
      "2    46\n",
      "3    49\n",
      "4    56\n",
      "5    59\n",
      "6    77\n",
      "Name: height_cm, dtype: int64\n",
      "min : 18\n",
      "max : 77\n",
      "var : 322.5714285714286\n",
      "std : 17.960273621841864\n",
      "quantile : 49.0\n"
     ]
    }
   ],
   "source": [
    "import pandas as pd\n",
    "\n",
    "dict = {\n",
    "    \"name\": [\"Bella\", \"Charlie\", \"Lucy\", \"Cooper\", \"Max\", \"Stella\", \"Bernie\"],\n",
    "    \"breed\": [\"Labrador\", \"Poodle\", \"Chow Chow\", \" Schnauzer\", \"Labrador\", \"Chihuahua\", \"St. Bernard\"],\n",
    "    \"color\": [\"Brown\", \"Black\", \"Brown\", \"Gray\", \"Black\", \"Tan\", \"Whiite\"],\n",
    "    \"height_cm\": [56, 43, 46, 49, 59, 18, 77],\n",
    "    \"weight_kg\": [25, 23, 22, 17, 29, 2, 74],\n",
    "    \"date_of_birth\": [\"2013-07-01\", \"2016-09-16\", \"2014-08-25\", \"2011-12-11\", \"2017-01-20\", \"2015-04-20\", \"2018-02-27\"]\n",
    "}\n",
    "\n",
    "# Summarizing numerical data\n",
    "dogs = pd.DataFrame(dict)\n",
    "\n",
    "print(\"=== Summary Dogs \\\"height_cm\\\" Column ===\")\n",
    "print(\"mean : \" + str(dogs[\"height_cm\"].mean()))\n",
    "print(\"median : \" + str(dogs[\"height_cm\"].median()))\n",
    "print(\"mode : \" + str(dogs[\"height_cm\"].mode()))\n",
    "print(\"min : \" + str(dogs[\"height_cm\"].min()))\n",
    "print(\"max : \" + str(dogs[\"height_cm\"].max()))\n",
    "print(\"var : \" + str(dogs[\"height_cm\"].var()))\n",
    "print(\"std : \" + str(dogs[\"height_cm\"].std()))\n",
    "print(\"quantile : \" + str(dogs[\"height_cm\"].quantile()))"
   ]
  },
  {
   "cell_type": "code",
   "execution_count": 33,
   "metadata": {},
   "outputs": [
    {
     "name": "stdout",
     "output_type": "stream",
     "text": [
      "Oldest Dog : 2011-12-11\n",
      "Youngest Dog : 2018-02-27\n"
     ]
    }
   ],
   "source": [
    "# Summirizing dates\n",
    "# Oldest dog:\n",
    "print(\"Oldest Dog : \" + str(dogs[\"date_of_birth\"].min()))\n",
    "# Youngest dog:\n",
    "print(\"Youngest Dog : \" + str(dogs[\"date_of_birth\"].max()))"
   ]
  },
  {
   "cell_type": "code",
   "execution_count": 37,
   "metadata": {},
   "outputs": [
    {
     "data": {
      "text/plain": [
       "pct30    21.0\n",
       "pct40    22.4\n",
       "Name: weight_kg, dtype: float64"
      ]
     },
     "execution_count": 37,
     "metadata": {},
     "output_type": "execute_result"
    }
   ],
   "source": [
    "# The .agg() method\n",
    "def pct30(column):\n",
    "    return column.quantile(0.3)\n",
    "\n",
    "def pct40(column):\n",
    "    return column.quantile(0.4)\n",
    "\n",
    "dogs[\"weight_kg\"].agg(pct30)\n",
    "dogs[[\"weight_kg\", \"height_cm\"]].agg(pct30)\n",
    "\n",
    "# Multiple summaries\n",
    "dogs[\"weight_kg\"].agg([pct30, pct40])"
   ]
  },
  {
   "cell_type": "code",
   "execution_count": 43,
   "metadata": {},
   "outputs": [
    {
     "data": {
      "text/plain": [
       "0           25\n",
       "1          575\n",
       "2        12650\n",
       "3       215050\n",
       "4      6236450\n",
       "5     12472900\n",
       "6    922994600\n",
       "Name: weight_kg, dtype: int64"
      ]
     },
     "execution_count": 43,
     "metadata": {},
     "output_type": "execute_result"
    }
   ],
   "source": [
    "# Cumulative sum\n",
    "dogs[\"weight_kg\"]\n",
    "dogs[\"weight_kg\"].cumsum()\n",
    "\n",
    "# Cumulative statistics\n",
    "dogs[\"weight_kg\"].cummax()\n",
    "dogs[\"weight_kg\"].cummin()\n",
    "dogs[\"weight_kg\"].cumprod()"
   ]
  },
  {
   "cell_type": "code",
   "execution_count": 44,
   "metadata": {},
   "outputs": [
    {
     "data": {
      "text/html": [
       "<div>\n",
       "<style scoped>\n",
       "    .dataframe tbody tr th:only-of-type {\n",
       "        vertical-align: middle;\n",
       "    }\n",
       "\n",
       "    .dataframe tbody tr th {\n",
       "        vertical-align: top;\n",
       "    }\n",
       "\n",
       "    .dataframe thead th {\n",
       "        text-align: right;\n",
       "    }\n",
       "</style>\n",
       "<table border=\"1\" class=\"dataframe\">\n",
       "  <thead>\n",
       "    <tr style=\"text-align: right;\">\n",
       "      <th></th>\n",
       "      <th>store</th>\n",
       "      <th>type</th>\n",
       "      <th>dept</th>\n",
       "      <th>date_of_birth</th>\n",
       "      <th>weekly_sales</th>\n",
       "      <th>is_holiday</th>\n",
       "      <th>temp_c</th>\n",
       "      <th>fuel_price</th>\n",
       "      <th>unemp</th>\n",
       "    </tr>\n",
       "  </thead>\n",
       "  <tbody>\n",
       "    <tr>\n",
       "      <th>0</th>\n",
       "      <td>1</td>\n",
       "      <td>A</td>\n",
       "      <td>1</td>\n",
       "      <td>2010-02-05</td>\n",
       "      <td>24924.50</td>\n",
       "      <td>False</td>\n",
       "      <td>5.37</td>\n",
       "      <td>0.679</td>\n",
       "      <td>8.106</td>\n",
       "    </tr>\n",
       "    <tr>\n",
       "      <th>1</th>\n",
       "      <td>1</td>\n",
       "      <td>A</td>\n",
       "      <td>2</td>\n",
       "      <td>2010-02-05</td>\n",
       "      <td>50605.27</td>\n",
       "      <td>False</td>\n",
       "      <td>5.37</td>\n",
       "      <td>0.679</td>\n",
       "      <td>8.106</td>\n",
       "    </tr>\n",
       "    <tr>\n",
       "      <th>2</th>\n",
       "      <td>1</td>\n",
       "      <td>A</td>\n",
       "      <td>3</td>\n",
       "      <td>2010-02-05</td>\n",
       "      <td>13740.12</td>\n",
       "      <td>False</td>\n",
       "      <td>5.37</td>\n",
       "      <td>0.679</td>\n",
       "      <td>8.106</td>\n",
       "    </tr>\n",
       "    <tr>\n",
       "      <th>3</th>\n",
       "      <td>1</td>\n",
       "      <td>A</td>\n",
       "      <td>4</td>\n",
       "      <td>2010-02-05</td>\n",
       "      <td>39954.04</td>\n",
       "      <td>False</td>\n",
       "      <td>5.37</td>\n",
       "      <td>0.679</td>\n",
       "      <td>8.106</td>\n",
       "    </tr>\n",
       "    <tr>\n",
       "      <th>4</th>\n",
       "      <td>1</td>\n",
       "      <td>A</td>\n",
       "      <td>5</td>\n",
       "      <td>2010-02-05</td>\n",
       "      <td>32229.38</td>\n",
       "      <td>False</td>\n",
       "      <td>5.37</td>\n",
       "      <td>0.679</td>\n",
       "      <td>8.106</td>\n",
       "    </tr>\n",
       "  </tbody>\n",
       "</table>\n",
       "</div>"
      ],
      "text/plain": [
       "   store type  dept date_of_birth  weekly_sales  is_holiday  temp_c  \\\n",
       "0      1    A     1    2010-02-05      24924.50       False    5.37   \n",
       "1      1    A     2    2010-02-05      50605.27       False    5.37   \n",
       "2      1    A     3    2010-02-05      13740.12       False    5.37   \n",
       "3      1    A     4    2010-02-05      39954.04       False    5.37   \n",
       "4      1    A     5    2010-02-05      32229.38       False    5.37   \n",
       "\n",
       "   fuel_price  unemp  \n",
       "0       0.679  8.106  \n",
       "1       0.679  8.106  \n",
       "2       0.679  8.106  \n",
       "3       0.679  8.106  \n",
       "4       0.679  8.106  "
      ]
     },
     "execution_count": 44,
     "metadata": {},
     "output_type": "execute_result"
    }
   ],
   "source": [
    "import pandas as pd\n",
    "\n",
    "dict = {\n",
    "    \"store\": [1, 1, 1, 1, 1],\n",
    "    \"type\": [\"A\", \"A\", \"A\", \"A\", \"A\"],\n",
    "    \"dept\": [1, 2, 3, 4, 5],\n",
    "    \"date_of_birth\": [\"2010-02-05\", \"2010-02-05\", \"2010-02-05\", \"2010-02-05\", \"2010-02-05\"],\n",
    "    \"weekly_sales\": [24924.50, 50605.27, 13740.12, 39954.04, 32229.38],\n",
    "    \"is_holiday\": [False, False, False, False, False],\n",
    "    \"temp_c\": [5.37, 5.37, 5.37, 5.37, 5.37],\n",
    "    \"fuel_price\": [0.679, 0.679, 0.679, 0.679, 0.679],\n",
    "    \"unemp\": [8.106, 8.106, 8.106, 8.106, 8.106]\n",
    "}\n",
    "\n",
    "# Summarizing numerical data\n",
    "sales = pd.DataFrame(dict)\n",
    "sales.head()"
   ]
  },
  {
   "cell_type": "code",
   "execution_count": 45,
   "metadata": {},
   "outputs": [
    {
     "name": "stdout",
     "output_type": "stream",
     "text": [
      "   store type  dept date_of_birth  weekly_sales  is_holiday  temp_c  \\\n",
      "0      1    A     1    2010-02-05      24924.50       False    5.37   \n",
      "1      1    A     2    2010-02-05      50605.27       False    5.37   \n",
      "2      1    A     3    2010-02-05      13740.12       False    5.37   \n",
      "3      1    A     4    2010-02-05      39954.04       False    5.37   \n",
      "4      1    A     5    2010-02-05      32229.38       False    5.37   \n",
      "\n",
      "   fuel_price  unemp  \n",
      "0       0.679  8.106  \n",
      "1       0.679  8.106  \n",
      "2       0.679  8.106  \n",
      "3       0.679  8.106  \n",
      "4       0.679  8.106  \n",
      "<class 'pandas.core.frame.DataFrame'>\n",
      "RangeIndex: 5 entries, 0 to 4\n",
      "Data columns (total 9 columns):\n",
      " #   Column         Non-Null Count  Dtype  \n",
      "---  ------         --------------  -----  \n",
      " 0   store          5 non-null      int64  \n",
      " 1   type           5 non-null      object \n",
      " 2   dept           5 non-null      int64  \n",
      " 3   date_of_birth  5 non-null      object \n",
      " 4   weekly_sales   5 non-null      float64\n",
      " 5   is_holiday     5 non-null      bool   \n",
      " 6   temp_c         5 non-null      float64\n",
      " 7   fuel_price     5 non-null      float64\n",
      " 8   unemp          5 non-null      float64\n",
      "dtypes: bool(1), float64(4), int64(2), object(2)\n",
      "memory usage: 453.0+ bytes\n",
      "None\n",
      "32290.662\n",
      "32229.38\n"
     ]
    }
   ],
   "source": [
    "# Print the head of the sales DataFrame\n",
    "print(sales.head())\n",
    "\n",
    "# Print the info about the sales DataFrame\n",
    "print(sales.info())\n",
    "\n",
    "# Print the mean of weekly_sales\n",
    "print(sales[\"weekly_sales\"].mean())\n",
    "\n",
    "# Print the median of weekly_sales\n",
    "print(sales[\"weekly_sales\"].median())"
   ]
  },
  {
   "cell_type": "code",
   "execution_count": null,
   "metadata": {},
   "outputs": [],
   "source": []
  }
 ],
 "metadata": {
  "kernelspec": {
   "display_name": "Python 3.9.12 64-bit",
   "language": "python",
   "name": "python3"
  },
  "language_info": {
   "codemirror_mode": {
    "name": "ipython",
    "version": 3
   },
   "file_extension": ".py",
   "mimetype": "text/x-python",
   "name": "python",
   "nbconvert_exporter": "python",
   "pygments_lexer": "ipython3",
   "version": "3.9.12"
  },
  "orig_nbformat": 4,
  "vscode": {
   "interpreter": {
    "hash": "20a9e06a1eee47c4abbed4ec8225ad91d78d9800d202b71b6b0a6e47016c6abd"
   }
  }
 },
 "nbformat": 4,
 "nbformat_minor": 2
}
